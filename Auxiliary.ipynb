{
 "cells": [
  {
   "cell_type": "code",
   "execution_count": 1,
   "metadata": {
    "collapsed": true
   },
   "outputs": [],
   "source": [
    "import numpy  as np\n",
    "import pandas as pd"
   ]
  },
  {
   "cell_type": "code",
   "execution_count": 15,
   "metadata": {
    "collapsed": true
   },
   "outputs": [],
   "source": [
    "s = pd.DataFrame(np.random.randn(5,2), index=['a', 'b', 'c', 'd', 'e'])"
   ]
  },
  {
   "cell_type": "code",
   "execution_count": 16,
   "metadata": {
    "collapsed": true
   },
   "outputs": [],
   "source": [
    "s['Name'] = ['a,Mr. Pepe','b,Mr. Pipo','c,Mrs. Pepa','d,Don. Alberto','e,Master. Popo']"
   ]
  },
  {
   "cell_type": "code",
   "execution_count": 17,
   "metadata": {},
   "outputs": [],
   "source": [
    "df_combo = s"
   ]
  },
  {
   "cell_type": "code",
   "execution_count": 18,
   "metadata": {},
   "outputs": [
    {
     "data": {
      "text/html": [
       "<div>\n",
       "<table border=\"1\" class=\"dataframe\">\n",
       "  <thead>\n",
       "    <tr style=\"text-align: right;\">\n",
       "      <th></th>\n",
       "      <th>0</th>\n",
       "      <th>1</th>\n",
       "      <th>Name</th>\n",
       "    </tr>\n",
       "  </thead>\n",
       "  <tbody>\n",
       "    <tr>\n",
       "      <th>a</th>\n",
       "      <td>0.174591</td>\n",
       "      <td>0.401336</td>\n",
       "      <td>a,Mr. Pepe</td>\n",
       "    </tr>\n",
       "    <tr>\n",
       "      <th>b</th>\n",
       "      <td>0.128044</td>\n",
       "      <td>1.194202</td>\n",
       "      <td>b,Mr. Pipo</td>\n",
       "    </tr>\n",
       "    <tr>\n",
       "      <th>c</th>\n",
       "      <td>1.974901</td>\n",
       "      <td>0.652154</td>\n",
       "      <td>c,Mrs. Pepa</td>\n",
       "    </tr>\n",
       "    <tr>\n",
       "      <th>d</th>\n",
       "      <td>0.522482</td>\n",
       "      <td>-1.860607</td>\n",
       "      <td>d,Don. Alberto</td>\n",
       "    </tr>\n",
       "    <tr>\n",
       "      <th>e</th>\n",
       "      <td>-0.308634</td>\n",
       "      <td>0.617819</td>\n",
       "      <td>e,Master. Popo</td>\n",
       "    </tr>\n",
       "  </tbody>\n",
       "</table>\n",
       "</div>"
      ],
      "text/plain": [
       "          0         1            Name\n",
       "a  0.174591  0.401336      a,Mr. Pepe\n",
       "b  0.128044  1.194202      b,Mr. Pipo\n",
       "c  1.974901  0.652154     c,Mrs. Pepa\n",
       "d  0.522482 -1.860607  d,Don. Alberto\n",
       "e -0.308634  0.617819  e,Master. Popo"
      ]
     },
     "execution_count": 18,
     "metadata": {},
     "output_type": "execute_result"
    }
   ],
   "source": [
    "df_combo"
   ]
  },
  {
   "cell_type": "code",
   "execution_count": 19,
   "metadata": {},
   "outputs": [
    {
     "data": {
      "text/plain": [
       "array(['Mr', 'Mrs', 'Don', 'Master'], dtype=object)"
      ]
     },
     "execution_count": 19,
     "metadata": {},
     "output_type": "execute_result"
    }
   ],
   "source": [
    "df_combo['Name'].str.split(',').str.get(1).str.split('.').str.get(0).unique()"
   ]
  },
  {
   "cell_type": "code",
   "execution_count": 20,
   "metadata": {},
   "outputs": [
    {
     "name": "stdout",
     "output_type": "stream",
     "text": [
      "entry:Mr\n",
      "entry:Mrs\n",
      "entry:Don\n",
      "entry:Master\n"
     ]
    },
    {
     "data": {
      "text/plain": [
       "{'Don': 'Don', 'Master': 'Master', 'Mr': 'Mr', 'Mrs': 'Mrs'}"
      ]
     },
     "execution_count": 20,
     "metadata": {},
     "output_type": "execute_result"
    }
   ],
   "source": [
    "my_dict = {}\n",
    "for entry in df_combo['Name'].str.split(',').str.get(1).str.split('.').str.get(0).unique():\n",
    "    print(\"entry:\" + entry)\n",
    "    my_dict[entry] = entry\n",
    "my_dict"
   ]
  },
  {
   "cell_type": "code",
   "execution_count": 21,
   "metadata": {
    "collapsed": true
   },
   "outputs": [],
   "source": [
    "my_dict = {'Don':     'Man', \n",
    "           'Master':  'Prof', \n",
    "           'Mr':      'Man', \n",
    "           'Mrs':     'Miss'\n",
    "          }"
   ]
  },
  {
   "cell_type": "code",
   "execution_count": 22,
   "metadata": {},
   "outputs": [
    {
     "data": {
      "text/plain": [
       "{'Don': 'Man', 'Master': 'Prof', 'Mr': 'Man', 'Mrs': 'Miss'}"
      ]
     },
     "execution_count": 22,
     "metadata": {},
     "output_type": "execute_result"
    }
   ],
   "source": [
    "my_dict"
   ]
  },
  {
   "cell_type": "code",
   "execution_count": 30,
   "metadata": {
    "collapsed": true
   },
   "outputs": [],
   "source": [
    "df_combo['Title'] = df_combo['Name'].str.split(',').str.get(1).str.split('.').str.get(0)"
   ]
  },
  {
   "cell_type": "code",
   "execution_count": 31,
   "metadata": {},
   "outputs": [
    {
     "data": {
      "text/html": [
       "<div>\n",
       "<table border=\"1\" class=\"dataframe\">\n",
       "  <thead>\n",
       "    <tr style=\"text-align: right;\">\n",
       "      <th></th>\n",
       "      <th>0</th>\n",
       "      <th>1</th>\n",
       "      <th>Name</th>\n",
       "      <th>Title</th>\n",
       "    </tr>\n",
       "  </thead>\n",
       "  <tbody>\n",
       "    <tr>\n",
       "      <th>a</th>\n",
       "      <td>0.174591</td>\n",
       "      <td>0.401336</td>\n",
       "      <td>a,Mr. Pepe</td>\n",
       "      <td>Mr</td>\n",
       "    </tr>\n",
       "    <tr>\n",
       "      <th>b</th>\n",
       "      <td>0.128044</td>\n",
       "      <td>1.194202</td>\n",
       "      <td>b,Mr. Pipo</td>\n",
       "      <td>Mr</td>\n",
       "    </tr>\n",
       "    <tr>\n",
       "      <th>c</th>\n",
       "      <td>1.974901</td>\n",
       "      <td>0.652154</td>\n",
       "      <td>c,Mrs. Pepa</td>\n",
       "      <td>Mrs</td>\n",
       "    </tr>\n",
       "    <tr>\n",
       "      <th>d</th>\n",
       "      <td>0.522482</td>\n",
       "      <td>-1.860607</td>\n",
       "      <td>d,Don. Alberto</td>\n",
       "      <td>Don</td>\n",
       "    </tr>\n",
       "    <tr>\n",
       "      <th>e</th>\n",
       "      <td>-0.308634</td>\n",
       "      <td>0.617819</td>\n",
       "      <td>e,Master. Popo</td>\n",
       "      <td>Master</td>\n",
       "    </tr>\n",
       "  </tbody>\n",
       "</table>\n",
       "</div>"
      ],
      "text/plain": [
       "          0         1            Name   Title\n",
       "a  0.174591  0.401336      a,Mr. Pepe      Mr\n",
       "b  0.128044  1.194202      b,Mr. Pipo      Mr\n",
       "c  1.974901  0.652154     c,Mrs. Pepa     Mrs\n",
       "d  0.522482 -1.860607  d,Don. Alberto     Don\n",
       "e -0.308634  0.617819  e,Master. Popo  Master"
      ]
     },
     "execution_count": 31,
     "metadata": {},
     "output_type": "execute_result"
    }
   ],
   "source": [
    "df_combo"
   ]
  },
  {
   "cell_type": "code",
   "execution_count": 32,
   "metadata": {},
   "outputs": [
    {
     "data": {
      "text/html": [
       "<div>\n",
       "<table border=\"1\" class=\"dataframe\">\n",
       "  <thead>\n",
       "    <tr style=\"text-align: right;\">\n",
       "      <th></th>\n",
       "      <th>0</th>\n",
       "      <th>1</th>\n",
       "      <th>Name</th>\n",
       "      <th>Title</th>\n",
       "    </tr>\n",
       "  </thead>\n",
       "  <tbody>\n",
       "    <tr>\n",
       "      <th>a</th>\n",
       "      <td>0.174591</td>\n",
       "      <td>0.401336</td>\n",
       "      <td>a,Mr. Pepe</td>\n",
       "      <td>Man</td>\n",
       "    </tr>\n",
       "    <tr>\n",
       "      <th>b</th>\n",
       "      <td>0.128044</td>\n",
       "      <td>1.194202</td>\n",
       "      <td>b,Mr. Pipo</td>\n",
       "      <td>Man</td>\n",
       "    </tr>\n",
       "    <tr>\n",
       "      <th>c</th>\n",
       "      <td>1.974901</td>\n",
       "      <td>0.652154</td>\n",
       "      <td>c,Mrs. Pepa</td>\n",
       "      <td>Miss</td>\n",
       "    </tr>\n",
       "    <tr>\n",
       "      <th>d</th>\n",
       "      <td>0.522482</td>\n",
       "      <td>-1.860607</td>\n",
       "      <td>d,Don. Alberto</td>\n",
       "      <td>Man</td>\n",
       "    </tr>\n",
       "    <tr>\n",
       "      <th>e</th>\n",
       "      <td>-0.308634</td>\n",
       "      <td>0.617819</td>\n",
       "      <td>e,Master. Popo</td>\n",
       "      <td>Prof</td>\n",
       "    </tr>\n",
       "  </tbody>\n",
       "</table>\n",
       "</div>"
      ],
      "text/plain": [
       "          0         1            Name Title\n",
       "a  0.174591  0.401336      a,Mr. Pepe   Man\n",
       "b  0.128044  1.194202      b,Mr. Pipo   Man\n",
       "c  1.974901  0.652154     c,Mrs. Pepa  Miss\n",
       "d  0.522482 -1.860607  d,Don. Alberto   Man\n",
       "e -0.308634  0.617819  e,Master. Popo  Prof"
      ]
     },
     "execution_count": 32,
     "metadata": {},
     "output_type": "execute_result"
    }
   ],
   "source": [
    "df_combo.replace({\"Title\": my_dict})"
   ]
  },
  {
   "cell_type": "code",
   "execution_count": 28,
   "metadata": {
    "collapsed": true
   },
   "outputs": [],
   "source": [
    "del df_combo['Title']"
   ]
  },
  {
   "cell_type": "code",
   "execution_count": null,
   "metadata": {
    "collapsed": true
   },
   "outputs": [],
   "source": []
  }
 ],
 "metadata": {
  "kernelspec": {
   "display_name": "Python 3.6",
   "language": "python",
   "name": "python36"
  },
  "language_info": {
   "codemirror_mode": {
    "name": "ipython",
    "version": 3
   },
   "file_extension": ".py",
   "mimetype": "text/x-python",
   "name": "python",
   "nbconvert_exporter": "python",
   "pygments_lexer": "ipython3",
   "version": "3.6.3"
  }
 },
 "nbformat": 4,
 "nbformat_minor": 2
}
